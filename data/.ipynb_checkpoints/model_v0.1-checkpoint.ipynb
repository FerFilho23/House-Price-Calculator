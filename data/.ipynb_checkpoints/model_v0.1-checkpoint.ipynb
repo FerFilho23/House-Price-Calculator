{
 "cells": [
  {
   "cell_type": "markdown",
   "id": "fb5edb26-6ba8-4cf5-bf32-699883eecd12",
   "metadata": {},
   "source": [
    "# House Prediction Model v0.1"
   ]
  }
 ],
 "metadata": {
  "kernelspec": {
   "display_name": "Python 3 (ipykernel)",
   "language": "python",
   "name": "python3"
  },
  "language_info": {
   "codemirror_mode": {
    "name": "ipython",
    "version": 3
   },
   "file_extension": ".py",
   "mimetype": "text/x-python",
   "name": "python",
   "nbconvert_exporter": "python",
   "pygments_lexer": "ipython3",
   "version": "3.8.10"
  }
 },
 "nbformat": 4,
 "nbformat_minor": 5
}
