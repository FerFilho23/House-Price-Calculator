{
 "cells": [
  {
   "attachments": {},
   "cell_type": "markdown",
   "id": "fb5edb26-6ba8-4cf5-bf32-699883eecd12",
   "metadata": {},
   "source": [
    "# House Price Calculator Model v1.0"
   ]
  },
  {
   "attachments": {},
   "cell_type": "markdown",
   "id": "62b743d1-e0f3-4efd-b361-332c7293c91e",
   "metadata": {},
   "source": [
    "## Import Data"
   ]
  },
  {
   "cell_type": "code",
   "execution_count": 17,
   "id": "ce0e5a77-6c5a-4971-8935-361893e46c2d",
   "metadata": {},
   "outputs": [
    {
     "name": "stdout",
     "output_type": "stream",
     "text": [
      "           id             date     price  bedrooms  bathrooms  sqft_living  \\\n",
      "0  7129300520  20141013T000000  221900.0         3       1.00         1180   \n",
      "1  6414100192  20141209T000000  538000.0         3       2.25         2570   \n",
      "2  5631500400  20150225T000000  180000.0         2       1.00          770   \n",
      "3  2487200875  20141209T000000  604000.0         4       3.00         1960   \n",
      "4  1954400510  20150218T000000  510000.0         3       2.00         1680   \n",
      "\n",
      "   sqft_lot  floors  waterfront  view  ...  grade  sqft_above  sqft_basement  \\\n",
      "0      5650     1.0           0     0  ...      7        1180              0   \n",
      "1      7242     2.0           0     0  ...      7        2170            400   \n",
      "2     10000     1.0           0     0  ...      6         770              0   \n",
      "3      5000     1.0           0     0  ...      7        1050            910   \n",
      "4      8080     1.0           0     0  ...      8        1680              0   \n",
      "\n",
      "   yr_built  yr_renovated  zipcode      lat     long  sqft_living15  \\\n",
      "0      1955             0    98178  47.5112 -122.257           1340   \n",
      "1      1951          1991    98125  47.7210 -122.319           1690   \n",
      "2      1933             0    98028  47.7379 -122.233           2720   \n",
      "3      1965             0    98136  47.5208 -122.393           1360   \n",
      "4      1987             0    98074  47.6168 -122.045           1800   \n",
      "\n",
      "   sqft_lot15  \n",
      "0        5650  \n",
      "1        7639  \n",
      "2        8062  \n",
      "3        5000  \n",
      "4        7503  \n",
      "\n",
      "[5 rows x 21 columns]\n"
     ]
    },
    {
     "data": {
      "text/plain": [
       "(21613, 21)"
      ]
     },
     "execution_count": 17,
     "metadata": {},
     "output_type": "execute_result"
    }
   ],
   "source": [
    "\n",
    "import pandas as pd\n",
    "import matplotlib.pyplot as plt\n",
    "import seaborn as sns\n",
    " \n",
    "df = pd.read_csv(\"../data/house_data.csv\")\n",
    " \n",
    "# Printing first 5 records of the dataset\n",
    "print(df.head(5))\n",
    "df.shape"
   ]
  },
  {
   "attachments": {},
   "cell_type": "markdown",
   "id": "d84ba70d",
   "metadata": {},
   "source": [
    "## Feature Selection"
   ]
  },
  {
   "cell_type": "code",
   "execution_count": 18,
   "id": "9c53e125",
   "metadata": {},
   "outputs": [
    {
     "data": {
      "text/html": [
       "<div>\n",
       "<style scoped>\n",
       "    .dataframe tbody tr th:only-of-type {\n",
       "        vertical-align: middle;\n",
       "    }\n",
       "\n",
       "    .dataframe tbody tr th {\n",
       "        vertical-align: top;\n",
       "    }\n",
       "\n",
       "    .dataframe thead th {\n",
       "        text-align: right;\n",
       "    }\n",
       "</style>\n",
       "<table border=\"1\" class=\"dataframe\">\n",
       "  <thead>\n",
       "    <tr style=\"text-align: right;\">\n",
       "      <th></th>\n",
       "      <th>bedrooms</th>\n",
       "      <th>bathrooms</th>\n",
       "      <th>floors</th>\n",
       "      <th>yr_built</th>\n",
       "      <th>price</th>\n",
       "    </tr>\n",
       "  </thead>\n",
       "  <tbody>\n",
       "    <tr>\n",
       "      <th>0</th>\n",
       "      <td>3</td>\n",
       "      <td>1.00</td>\n",
       "      <td>1.0</td>\n",
       "      <td>1955</td>\n",
       "      <td>221900.0</td>\n",
       "    </tr>\n",
       "    <tr>\n",
       "      <th>1</th>\n",
       "      <td>3</td>\n",
       "      <td>2.25</td>\n",
       "      <td>2.0</td>\n",
       "      <td>1951</td>\n",
       "      <td>538000.0</td>\n",
       "    </tr>\n",
       "    <tr>\n",
       "      <th>2</th>\n",
       "      <td>2</td>\n",
       "      <td>1.00</td>\n",
       "      <td>1.0</td>\n",
       "      <td>1933</td>\n",
       "      <td>180000.0</td>\n",
       "    </tr>\n",
       "    <tr>\n",
       "      <th>3</th>\n",
       "      <td>4</td>\n",
       "      <td>3.00</td>\n",
       "      <td>1.0</td>\n",
       "      <td>1965</td>\n",
       "      <td>604000.0</td>\n",
       "    </tr>\n",
       "    <tr>\n",
       "      <th>4</th>\n",
       "      <td>3</td>\n",
       "      <td>2.00</td>\n",
       "      <td>1.0</td>\n",
       "      <td>1987</td>\n",
       "      <td>510000.0</td>\n",
       "    </tr>\n",
       "  </tbody>\n",
       "</table>\n",
       "</div>"
      ],
      "text/plain": [
       "   bedrooms  bathrooms  floors  yr_built     price\n",
       "0         3       1.00     1.0      1955  221900.0\n",
       "1         3       2.25     2.0      1951  538000.0\n",
       "2         2       1.00     1.0      1933  180000.0\n",
       "3         4       3.00     1.0      1965  604000.0\n",
       "4         3       2.00     1.0      1987  510000.0"
      ]
     },
     "execution_count": 18,
     "metadata": {},
     "output_type": "execute_result"
    }
   ],
   "source": [
    "columns = ['bedrooms', \n",
    "\t'bathrooms', \n",
    "\t'floors', \n",
    "\t'yr_built', \n",
    "\t'price']\n",
    "\n",
    "df = df[columns]\n",
    "\n",
    "X = df.iloc[:, 0:4]\n",
    "y = df.iloc[:, 4:]\n",
    "\n",
    "df.head(5)"
   ]
  },
  {
   "attachments": {},
   "cell_type": "markdown",
   "id": "6bd3cd98",
   "metadata": {},
   "source": [
    "## Split the data"
   ]
  },
  {
   "cell_type": "code",
   "execution_count": 19,
   "id": "9ba0c212",
   "metadata": {},
   "outputs": [],
   "source": [
    "from sklearn.metrics import mean_absolute_error\n",
    "from sklearn.model_selection import train_test_split\n",
    " \n",
    "X = df.drop(['price'], axis=1)\n",
    "Y = df['price']\n",
    " \n",
    "# Split the dataset into training and validation set\n",
    "X_train, X_valid, Y_train, Y_valid = train_test_split(\n",
    "    X, Y, train_size=0.8, test_size=0.2, random_state=0)"
   ]
  },
  {
   "attachments": {},
   "cell_type": "markdown",
   "id": "69d6ce6d",
   "metadata": {},
   "source": [
    "## Train Model"
   ]
  },
  {
   "attachments": {},
   "cell_type": "markdown",
   "id": "8d17cc15",
   "metadata": {},
   "source": [
    "### SVM – Support vector Machine\n",
    "\n",
    "SVM can be used for both regression and classification model. It finds the hyperplane in the n-dimensional plane. To read more about svm [refer this](https://www.geeksforgeeks.org/support-vector-machine-algorithm/).\n",
    "\n"
   ]
  },
  {
   "cell_type": "code",
   "execution_count": 20,
   "id": "698c0a7b",
   "metadata": {},
   "outputs": [
    {
     "name": "stdout",
     "output_type": "stream",
     "text": [
      "0.4260895330802694\n"
     ]
    }
   ],
   "source": [
    "\n",
    "from sklearn import svm\n",
    "from sklearn.svm import SVC\n",
    "from sklearn.metrics import mean_absolute_percentage_error\n",
    " \n",
    "model_SVR = svm.SVR()\n",
    "model_SVR.fit(X_train,Y_train)\n",
    "Y_pred = model_SVR.predict(X_valid)\n",
    " \n",
    "print(mean_absolute_percentage_error(Y_valid, Y_pred))"
   ]
  },
  {
   "attachments": {},
   "cell_type": "markdown",
   "id": "093e3f16",
   "metadata": {},
   "source": [
    "### Random Forest Regression\n",
    "\n",
    "Random Forest is an ensemble technique that uses multiple of decision trees and can be used for both regression and classification tasks. To read more about random forests [refer this](https://www.geeksforgeeks.org/random-forest-regression-in-python/)."
   ]
  },
  {
   "cell_type": "code",
   "execution_count": 21,
   "id": "84793193",
   "metadata": {},
   "outputs": [
    {
     "data": {
      "text/plain": [
       "0.3898434754771682"
      ]
     },
     "execution_count": 21,
     "metadata": {},
     "output_type": "execute_result"
    }
   ],
   "source": [
    "from sklearn.ensemble import RandomForestRegressor\n",
    " \n",
    "model_RFR = RandomForestRegressor(n_estimators=10)\n",
    "model_RFR.fit(X_train, Y_train)\n",
    "Y_pred = model_RFR.predict(X_valid)\n",
    " \n",
    "mean_absolute_percentage_error(Y_valid, Y_pred)"
   ]
  },
  {
   "attachments": {},
   "cell_type": "markdown",
   "id": "92d584f8",
   "metadata": {},
   "source": [
    "### Linear Regression\n",
    "\n",
    "Linear Regression predicts the final output-dependent value based on the given independent features. Like, here we have to predict price depending on features like number of bedrooms, bathrooms, floors and the year of construction. To read more about Linear Regression [refer this](https://www.geeksforgeeks.org/ml-linear-regression/)."
   ]
  },
  {
   "cell_type": "code",
   "execution_count": 22,
   "id": "b599e58f",
   "metadata": {},
   "outputs": [
    {
     "name": "stdout",
     "output_type": "stream",
     "text": [
      "0.41123936322827975\n"
     ]
    }
   ],
   "source": [
    "from sklearn.linear_model import LinearRegression\n",
    " \n",
    "model_LR = LinearRegression()\n",
    "model_LR.fit(X_train, Y_train)\n",
    "Y_pred = model_LR.predict(X_valid)\n",
    " \n",
    "print(mean_absolute_percentage_error(Y_valid, Y_pred))"
   ]
  },
  {
   "attachments": {},
   "cell_type": "markdown",
   "id": "527f7c39",
   "metadata": {},
   "source": [
    "## Dumping Model"
   ]
  },
  {
   "cell_type": "code",
   "execution_count": 23,
   "id": "f383ea35",
   "metadata": {},
   "outputs": [],
   "source": [
    "import pickle\n",
    "pickle.dump(model_RFR, open('model_v1.0.pkl', 'wb'))"
   ]
  }
 ],
 "metadata": {
  "kernelspec": {
   "display_name": "Python 3 (ipykernel)",
   "language": "python",
   "name": "python3"
  },
  "language_info": {
   "codemirror_mode": {
    "name": "ipython",
    "version": 3
   },
   "file_extension": ".py",
   "mimetype": "text/x-python",
   "name": "python",
   "nbconvert_exporter": "python",
   "pygments_lexer": "ipython3",
   "version": "3.8.10"
  }
 },
 "nbformat": 4,
 "nbformat_minor": 5
}
